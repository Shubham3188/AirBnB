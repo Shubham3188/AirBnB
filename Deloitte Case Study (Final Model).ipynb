{
 "cells": [
  {
   "cell_type": "markdown",
   "metadata": {},
   "source": [
    "## Problem Statement\n",
    "\n",
    "#### The aim of this case study is to predict the price of AirBnB listings in major U.S. cities."
   ]
  },
  {
   "cell_type": "markdown",
   "metadata": {},
   "source": [
    "### Importing Relevant Libraries"
   ]
  },
  {
   "cell_type": "code",
   "execution_count": 1,
   "metadata": {},
   "outputs": [],
   "source": [
    "import matplotlib\n",
    "import matplotlib.pyplot as plt\n",
    "import pandas as pd\n",
    "import numpy as np\n",
    "import seaborn as sns\n",
    "\n",
    "from sklearn.model_selection import train_test_split\n",
    "from sklearn import metrics\n",
    "\n",
    "from sklearn.ensemble import RandomForestRegressor\n",
    "from xgboost import XGBRegressor\n",
    "from sklearn.linear_model import Ridge, Lasso, LinearRegression\n",
    "from sklearn.tree import DecisionTreeRegressor\n",
    "from sklearn.neighbors import KNeighborsRegressor\n",
    "\n",
    "from skater.core.explanations import Interpretation\n",
    "from skater.model import InMemoryModel\n",
    "\n",
    "import warnings\n",
    "warnings.filterwarnings('always')\n",
    "warnings.filterwarnings('ignore')"
   ]
  },
  {
   "cell_type": "markdown",
   "metadata": {},
   "source": [
    "### Data Inspection"
   ]
  },
  {
   "cell_type": "code",
   "execution_count": 2,
   "metadata": {},
   "outputs": [
    {
     "name": "stdout",
     "output_type": "stream",
     "text": [
      "C:\\Users\\shubh\\Desktop\\PYTHON\\case study\n"
     ]
    }
   ],
   "source": [
    "# Setting the location for working Directory\n",
    "\n",
    "%cd \"C:\\Users\\shubh\\Desktop\\PYTHON\\case study\""
   ]
  },
  {
   "cell_type": "code",
   "execution_count": 3,
   "metadata": {},
   "outputs": [],
   "source": [
    "train = pd.read_excel(\"train.xlsx\")\n",
    "test = pd.read_excel(\"test.xlsx\")"
   ]
  },
  {
   "cell_type": "code",
   "execution_count": 4,
   "metadata": {},
   "outputs": [
    {
     "data": {
      "text/plain": [
       "(49999, 29)"
      ]
     },
     "execution_count": 4,
     "metadata": {},
     "output_type": "execute_result"
    }
   ],
   "source": [
    "train.shape"
   ]
  },
  {
   "cell_type": "markdown",
   "metadata": {},
   "source": [
    "* __We have 49999 rows and 29 columns in Train set whereas Test set has 24111 rows and 28 columns.__"
   ]
  },
  {
   "cell_type": "code",
   "execution_count": 5,
   "metadata": {},
   "outputs": [
    {
     "data": {
      "text/html": [
       "<div>\n",
       "<style scoped>\n",
       "    .dataframe tbody tr th:only-of-type {\n",
       "        vertical-align: middle;\n",
       "    }\n",
       "\n",
       "    .dataframe tbody tr th {\n",
       "        vertical-align: top;\n",
       "    }\n",
       "\n",
       "    .dataframe thead th {\n",
       "        text-align: right;\n",
       "    }\n",
       "</style>\n",
       "<table border=\"1\" class=\"dataframe\">\n",
       "  <thead>\n",
       "    <tr style=\"text-align: right;\">\n",
       "      <th></th>\n",
       "      <th>id</th>\n",
       "      <th>property_type</th>\n",
       "      <th>room_type</th>\n",
       "      <th>amenities</th>\n",
       "      <th>accommodates</th>\n",
       "      <th>bathrooms</th>\n",
       "      <th>bed_type</th>\n",
       "      <th>cancellation_policy</th>\n",
       "      <th>cleaning_fee</th>\n",
       "      <th>city</th>\n",
       "      <th>...</th>\n",
       "      <th>longitude</th>\n",
       "      <th>name</th>\n",
       "      <th>neighbourhood</th>\n",
       "      <th>number_of_reviews</th>\n",
       "      <th>review_scores_rating</th>\n",
       "      <th>thumbnail_url</th>\n",
       "      <th>zipcode</th>\n",
       "      <th>bedrooms</th>\n",
       "      <th>beds</th>\n",
       "      <th>log_price</th>\n",
       "    </tr>\n",
       "  </thead>\n",
       "  <tbody>\n",
       "    <tr>\n",
       "      <th>0</th>\n",
       "      <td>6901257</td>\n",
       "      <td>Apartment</td>\n",
       "      <td>Entire home/apt</td>\n",
       "      <td>{\"Wireless Internet\",\"Air conditioning\",Kitche...</td>\n",
       "      <td>3</td>\n",
       "      <td>1.0</td>\n",
       "      <td>Real Bed</td>\n",
       "      <td>strict</td>\n",
       "      <td>True</td>\n",
       "      <td>NYC</td>\n",
       "      <td>...</td>\n",
       "      <td>-73.991617</td>\n",
       "      <td>Beautiful brownstone 1-bedroom</td>\n",
       "      <td>Brooklyn Heights</td>\n",
       "      <td>2</td>\n",
       "      <td>100.0</td>\n",
       "      <td>https://a0.muscache.com/im/pictures/6d7cbbf7-c...</td>\n",
       "      <td>11201</td>\n",
       "      <td>1.0</td>\n",
       "      <td>1.0</td>\n",
       "      <td>5.010635</td>\n",
       "    </tr>\n",
       "    <tr>\n",
       "      <th>1</th>\n",
       "      <td>6304928</td>\n",
       "      <td>Apartment</td>\n",
       "      <td>Entire home/apt</td>\n",
       "      <td>{\"Wireless Internet\",\"Air conditioning\",Kitche...</td>\n",
       "      <td>7</td>\n",
       "      <td>1.0</td>\n",
       "      <td>Real Bed</td>\n",
       "      <td>strict</td>\n",
       "      <td>True</td>\n",
       "      <td>NYC</td>\n",
       "      <td>...</td>\n",
       "      <td>-73.989040</td>\n",
       "      <td>Superb 3BR Apt Located Near Times Square</td>\n",
       "      <td>Hell's Kitchen</td>\n",
       "      <td>6</td>\n",
       "      <td>93.0</td>\n",
       "      <td>https://a0.muscache.com/im/pictures/348a55fe-4...</td>\n",
       "      <td>10019</td>\n",
       "      <td>3.0</td>\n",
       "      <td>3.0</td>\n",
       "      <td>5.129899</td>\n",
       "    </tr>\n",
       "    <tr>\n",
       "      <th>2</th>\n",
       "      <td>7919400</td>\n",
       "      <td>Apartment</td>\n",
       "      <td>Entire home/apt</td>\n",
       "      <td>{TV,\"Cable TV\",\"Wireless Internet\",\"Air condit...</td>\n",
       "      <td>5</td>\n",
       "      <td>1.0</td>\n",
       "      <td>Real Bed</td>\n",
       "      <td>moderate</td>\n",
       "      <td>True</td>\n",
       "      <td>NYC</td>\n",
       "      <td>...</td>\n",
       "      <td>-73.943756</td>\n",
       "      <td>The Garden Oasis</td>\n",
       "      <td>Harlem</td>\n",
       "      <td>10</td>\n",
       "      <td>92.0</td>\n",
       "      <td>https://a0.muscache.com/im/pictures/6fae5362-9...</td>\n",
       "      <td>10027</td>\n",
       "      <td>1.0</td>\n",
       "      <td>3.0</td>\n",
       "      <td>4.976734</td>\n",
       "    </tr>\n",
       "    <tr>\n",
       "      <th>3</th>\n",
       "      <td>13418779</td>\n",
       "      <td>House</td>\n",
       "      <td>Entire home/apt</td>\n",
       "      <td>{TV,\"Cable TV\",Internet,\"Wireless Internet\",Ki...</td>\n",
       "      <td>4</td>\n",
       "      <td>1.0</td>\n",
       "      <td>Real Bed</td>\n",
       "      <td>flexible</td>\n",
       "      <td>True</td>\n",
       "      <td>SF</td>\n",
       "      <td>...</td>\n",
       "      <td>-122.431619</td>\n",
       "      <td>Beautiful Flat in the Heart of SF!</td>\n",
       "      <td>Lower Haight</td>\n",
       "      <td>0</td>\n",
       "      <td>NaN</td>\n",
       "      <td>https://a0.muscache.com/im/pictures/72208dad-9...</td>\n",
       "      <td>94117</td>\n",
       "      <td>2.0</td>\n",
       "      <td>2.0</td>\n",
       "      <td>6.620073</td>\n",
       "    </tr>\n",
       "    <tr>\n",
       "      <th>4</th>\n",
       "      <td>3808709</td>\n",
       "      <td>Apartment</td>\n",
       "      <td>Entire home/apt</td>\n",
       "      <td>{TV,Internet,\"Wireless Internet\",\"Air conditio...</td>\n",
       "      <td>2</td>\n",
       "      <td>1.0</td>\n",
       "      <td>Real Bed</td>\n",
       "      <td>moderate</td>\n",
       "      <td>True</td>\n",
       "      <td>DC</td>\n",
       "      <td>...</td>\n",
       "      <td>-77.034596</td>\n",
       "      <td>Great studio in midtown DC</td>\n",
       "      <td>Columbia Heights</td>\n",
       "      <td>4</td>\n",
       "      <td>40.0</td>\n",
       "      <td>NaN</td>\n",
       "      <td>20009</td>\n",
       "      <td>0.0</td>\n",
       "      <td>1.0</td>\n",
       "      <td>4.744932</td>\n",
       "    </tr>\n",
       "  </tbody>\n",
       "</table>\n",
       "<p>5 rows × 29 columns</p>\n",
       "</div>"
      ],
      "text/plain": [
       "         id property_type        room_type  \\\n",
       "0   6901257     Apartment  Entire home/apt   \n",
       "1   6304928     Apartment  Entire home/apt   \n",
       "2   7919400     Apartment  Entire home/apt   \n",
       "3  13418779         House  Entire home/apt   \n",
       "4   3808709     Apartment  Entire home/apt   \n",
       "\n",
       "                                           amenities  accommodates  bathrooms  \\\n",
       "0  {\"Wireless Internet\",\"Air conditioning\",Kitche...             3        1.0   \n",
       "1  {\"Wireless Internet\",\"Air conditioning\",Kitche...             7        1.0   \n",
       "2  {TV,\"Cable TV\",\"Wireless Internet\",\"Air condit...             5        1.0   \n",
       "3  {TV,\"Cable TV\",Internet,\"Wireless Internet\",Ki...             4        1.0   \n",
       "4  {TV,Internet,\"Wireless Internet\",\"Air conditio...             2        1.0   \n",
       "\n",
       "   bed_type cancellation_policy  cleaning_fee city  ...   longitude  \\\n",
       "0  Real Bed              strict          True  NYC  ...  -73.991617   \n",
       "1  Real Bed              strict          True  NYC  ...  -73.989040   \n",
       "2  Real Bed            moderate          True  NYC  ...  -73.943756   \n",
       "3  Real Bed            flexible          True   SF  ... -122.431619   \n",
       "4  Real Bed            moderate          True   DC  ...  -77.034596   \n",
       "\n",
       "                                       name     neighbourhood  \\\n",
       "0            Beautiful brownstone 1-bedroom  Brooklyn Heights   \n",
       "1  Superb 3BR Apt Located Near Times Square    Hell's Kitchen   \n",
       "2                          The Garden Oasis            Harlem   \n",
       "3        Beautiful Flat in the Heart of SF!      Lower Haight   \n",
       "4                Great studio in midtown DC  Columbia Heights   \n",
       "\n",
       "  number_of_reviews  review_scores_rating  \\\n",
       "0                 2                 100.0   \n",
       "1                 6                  93.0   \n",
       "2                10                  92.0   \n",
       "3                 0                   NaN   \n",
       "4                 4                  40.0   \n",
       "\n",
       "                                       thumbnail_url zipcode bedrooms  beds  \\\n",
       "0  https://a0.muscache.com/im/pictures/6d7cbbf7-c...   11201      1.0   1.0   \n",
       "1  https://a0.muscache.com/im/pictures/348a55fe-4...   10019      3.0   3.0   \n",
       "2  https://a0.muscache.com/im/pictures/6fae5362-9...   10027      1.0   3.0   \n",
       "3  https://a0.muscache.com/im/pictures/72208dad-9...   94117      2.0   2.0   \n",
       "4                                                NaN   20009      0.0   1.0   \n",
       "\n",
       "   log_price  \n",
       "0   5.010635  \n",
       "1   5.129899  \n",
       "2   4.976734  \n",
       "3   6.620073  \n",
       "4   4.744932  \n",
       "\n",
       "[5 rows x 29 columns]"
      ]
     },
     "execution_count": 5,
     "metadata": {},
     "output_type": "execute_result"
    }
   ],
   "source": [
    "# Viewing the Dataset\n",
    "\n",
    "train.head()"
   ]
  },
  {
   "cell_type": "code",
   "execution_count": 6,
   "metadata": {},
   "outputs": [
    {
     "data": {
      "text/html": [
       "<div>\n",
       "<style scoped>\n",
       "    .dataframe tbody tr th:only-of-type {\n",
       "        vertical-align: middle;\n",
       "    }\n",
       "\n",
       "    .dataframe tbody tr th {\n",
       "        vertical-align: top;\n",
       "    }\n",
       "\n",
       "    .dataframe thead th {\n",
       "        text-align: right;\n",
       "    }\n",
       "</style>\n",
       "<table border=\"1\" class=\"dataframe\">\n",
       "  <thead>\n",
       "    <tr style=\"text-align: right;\">\n",
       "      <th></th>\n",
       "      <th>id</th>\n",
       "      <th>property_type</th>\n",
       "      <th>room_type</th>\n",
       "      <th>amenities</th>\n",
       "      <th>accommodates</th>\n",
       "      <th>bathrooms</th>\n",
       "      <th>bed_type</th>\n",
       "      <th>cancellation_policy</th>\n",
       "      <th>cleaning_fee</th>\n",
       "      <th>city</th>\n",
       "      <th>...</th>\n",
       "      <th>latitude</th>\n",
       "      <th>longitude</th>\n",
       "      <th>name</th>\n",
       "      <th>neighbourhood</th>\n",
       "      <th>number_of_reviews</th>\n",
       "      <th>review_scores_rating</th>\n",
       "      <th>thumbnail_url</th>\n",
       "      <th>zipcode</th>\n",
       "      <th>bedrooms</th>\n",
       "      <th>beds</th>\n",
       "    </tr>\n",
       "  </thead>\n",
       "  <tbody>\n",
       "    <tr>\n",
       "      <th>0</th>\n",
       "      <td>5979389</td>\n",
       "      <td>Apartment</td>\n",
       "      <td>Private room</td>\n",
       "      <td>{\"Wireless Internet\",\"Air conditioning\",Kitche...</td>\n",
       "      <td>2</td>\n",
       "      <td>1.0</td>\n",
       "      <td>Real Bed</td>\n",
       "      <td>strict</td>\n",
       "      <td>True</td>\n",
       "      <td>NYC</td>\n",
       "      <td>...</td>\n",
       "      <td>40.705948</td>\n",
       "      <td>-73.915318</td>\n",
       "      <td>Bedroom in Renovated Apartment with Washer/Dryer</td>\n",
       "      <td>Ridgewood</td>\n",
       "      <td>0</td>\n",
       "      <td>NaN</td>\n",
       "      <td>https://a0.muscache.com/im/pictures/b43127ee-b...</td>\n",
       "      <td>11385</td>\n",
       "      <td>1.0</td>\n",
       "      <td>1.0</td>\n",
       "    </tr>\n",
       "    <tr>\n",
       "      <th>1</th>\n",
       "      <td>13488121</td>\n",
       "      <td>Apartment</td>\n",
       "      <td>Entire home/apt</td>\n",
       "      <td>{TV,\"Cable TV\",Internet,\"Wireless Internet\",\"A...</td>\n",
       "      <td>4</td>\n",
       "      <td>1.0</td>\n",
       "      <td>Real Bed</td>\n",
       "      <td>moderate</td>\n",
       "      <td>True</td>\n",
       "      <td>LA</td>\n",
       "      <td>...</td>\n",
       "      <td>34.118408</td>\n",
       "      <td>-118.317929</td>\n",
       "      <td>Peaceful and Quiet Hollywood Hills</td>\n",
       "      <td>Hollywood Hills</td>\n",
       "      <td>24</td>\n",
       "      <td>100.0</td>\n",
       "      <td>https://a0.muscache.com/im/pictures/894d8ca5-7...</td>\n",
       "      <td>90068</td>\n",
       "      <td>1.0</td>\n",
       "      <td>1.0</td>\n",
       "    </tr>\n",
       "    <tr>\n",
       "      <th>2</th>\n",
       "      <td>8121643</td>\n",
       "      <td>Apartment</td>\n",
       "      <td>Private room</td>\n",
       "      <td>{TV,\"Cable TV\",Internet,\"Wireless Internet\",\"A...</td>\n",
       "      <td>2</td>\n",
       "      <td>1.0</td>\n",
       "      <td>Real Bed</td>\n",
       "      <td>flexible</td>\n",
       "      <td>False</td>\n",
       "      <td>NYC</td>\n",
       "      <td>...</td>\n",
       "      <td>40.707888</td>\n",
       "      <td>-74.015211</td>\n",
       "      <td>Luxury, doorman Building- FIDI</td>\n",
       "      <td>Financial District</td>\n",
       "      <td>0</td>\n",
       "      <td>NaN</td>\n",
       "      <td>NaN</td>\n",
       "      <td>10006</td>\n",
       "      <td>1.0</td>\n",
       "      <td>1.0</td>\n",
       "    </tr>\n",
       "    <tr>\n",
       "      <th>3</th>\n",
       "      <td>16490010</td>\n",
       "      <td>Apartment</td>\n",
       "      <td>Private room</td>\n",
       "      <td>{Internet,\"Wireless Internet\",\"Air conditionin...</td>\n",
       "      <td>2</td>\n",
       "      <td>1.0</td>\n",
       "      <td>Real Bed</td>\n",
       "      <td>flexible</td>\n",
       "      <td>True</td>\n",
       "      <td>NYC</td>\n",
       "      <td>...</td>\n",
       "      <td>40.721388</td>\n",
       "      <td>-73.945642</td>\n",
       "      <td>Cozy room in sunny historic Greenpoint home</td>\n",
       "      <td>Greenpoint</td>\n",
       "      <td>12</td>\n",
       "      <td>98.0</td>\n",
       "      <td>https://a0.muscache.com/im/pictures/6c99615c-4...</td>\n",
       "      <td>11222</td>\n",
       "      <td>1.0</td>\n",
       "      <td>1.0</td>\n",
       "    </tr>\n",
       "    <tr>\n",
       "      <th>4</th>\n",
       "      <td>16274069</td>\n",
       "      <td>Apartment</td>\n",
       "      <td>Entire home/apt</td>\n",
       "      <td>{TV,Internet,\"Wireless Internet\",\"Air conditio...</td>\n",
       "      <td>4</td>\n",
       "      <td>1.0</td>\n",
       "      <td>Real Bed</td>\n",
       "      <td>moderate</td>\n",
       "      <td>True</td>\n",
       "      <td>NYC</td>\n",
       "      <td>...</td>\n",
       "      <td>40.682556</td>\n",
       "      <td>-73.943259</td>\n",
       "      <td>B's Suite</td>\n",
       "      <td>Bedford-Stuyvesant</td>\n",
       "      <td>13</td>\n",
       "      <td>92.0</td>\n",
       "      <td>https://a0.muscache.com/im/pictures/56275358/c...</td>\n",
       "      <td>11216</td>\n",
       "      <td>2.0</td>\n",
       "      <td>3.0</td>\n",
       "    </tr>\n",
       "  </tbody>\n",
       "</table>\n",
       "<p>5 rows × 28 columns</p>\n",
       "</div>"
      ],
      "text/plain": [
       "         id property_type        room_type  \\\n",
       "0   5979389     Apartment     Private room   \n",
       "1  13488121     Apartment  Entire home/apt   \n",
       "2   8121643     Apartment     Private room   \n",
       "3  16490010     Apartment     Private room   \n",
       "4  16274069     Apartment  Entire home/apt   \n",
       "\n",
       "                                           amenities  accommodates  bathrooms  \\\n",
       "0  {\"Wireless Internet\",\"Air conditioning\",Kitche...             2        1.0   \n",
       "1  {TV,\"Cable TV\",Internet,\"Wireless Internet\",\"A...             4        1.0   \n",
       "2  {TV,\"Cable TV\",Internet,\"Wireless Internet\",\"A...             2        1.0   \n",
       "3  {Internet,\"Wireless Internet\",\"Air conditionin...             2        1.0   \n",
       "4  {TV,Internet,\"Wireless Internet\",\"Air conditio...             4        1.0   \n",
       "\n",
       "   bed_type cancellation_policy  cleaning_fee city  ...   latitude  \\\n",
       "0  Real Bed              strict          True  NYC  ...  40.705948   \n",
       "1  Real Bed            moderate          True   LA  ...  34.118408   \n",
       "2  Real Bed            flexible         False  NYC  ...  40.707888   \n",
       "3  Real Bed            flexible          True  NYC  ...  40.721388   \n",
       "4  Real Bed            moderate          True  NYC  ...  40.682556   \n",
       "\n",
       "    longitude                                              name  \\\n",
       "0  -73.915318  Bedroom in Renovated Apartment with Washer/Dryer   \n",
       "1 -118.317929                Peaceful and Quiet Hollywood Hills   \n",
       "2  -74.015211                    Luxury, doorman Building- FIDI   \n",
       "3  -73.945642       Cozy room in sunny historic Greenpoint home   \n",
       "4  -73.943259                                         B's Suite   \n",
       "\n",
       "        neighbourhood  number_of_reviews review_scores_rating  \\\n",
       "0           Ridgewood                  0                  NaN   \n",
       "1     Hollywood Hills                 24                100.0   \n",
       "2  Financial District                  0                  NaN   \n",
       "3          Greenpoint                 12                 98.0   \n",
       "4  Bedford-Stuyvesant                 13                 92.0   \n",
       "\n",
       "                                       thumbnail_url zipcode  bedrooms  beds  \n",
       "0  https://a0.muscache.com/im/pictures/b43127ee-b...   11385       1.0   1.0  \n",
       "1  https://a0.muscache.com/im/pictures/894d8ca5-7...   90068       1.0   1.0  \n",
       "2                                                NaN   10006       1.0   1.0  \n",
       "3  https://a0.muscache.com/im/pictures/6c99615c-4...   11222       1.0   1.0  \n",
       "4  https://a0.muscache.com/im/pictures/56275358/c...   11216       2.0   3.0  \n",
       "\n",
       "[5 rows x 28 columns]"
      ]
     },
     "execution_count": 6,
     "metadata": {},
     "output_type": "execute_result"
    }
   ],
   "source": [
    "test.head()"
   ]
  },
  {
   "cell_type": "code",
   "execution_count": 6,
   "metadata": {},
   "outputs": [
    {
     "data": {
      "text/plain": [
       "id                         0.000000\n",
       "property_type              0.000000\n",
       "room_type                  0.000000\n",
       "amenities                  0.000000\n",
       "accommodates               0.000000\n",
       "bathrooms                  0.223964\n",
       "bed_type                   0.000000\n",
       "cancellation_policy        0.000000\n",
       "cleaning_fee               0.000000\n",
       "city                       0.000000\n",
       "description                0.004147\n",
       "first_review              21.371988\n",
       "host_has_profile_pic       0.252997\n",
       "host_identity_verified     0.252997\n",
       "host_response_rate        24.723155\n",
       "host_since                 0.252997\n",
       "instant_bookable           0.000000\n",
       "last_review               21.334661\n",
       "latitude                   0.000000\n",
       "longitude                  0.000000\n",
       "name                       0.016590\n",
       "neighbourhood              9.352578\n",
       "number_of_reviews          0.000000\n",
       "review_scores_rating      22.483514\n",
       "thumbnail_url             10.870557\n",
       "zipcode                    1.352080\n",
       "bedrooms                   0.120277\n",
       "beds                       0.165899\n",
       "dtype: float64"
      ]
     },
     "execution_count": 6,
     "metadata": {},
     "output_type": "execute_result"
    }
   ],
   "source": [
    "#ratio of null values\n",
    "test.isnull().sum()/test.shape[0] *100"
   ]
  },
  {
   "cell_type": "code",
   "execution_count": 7,
   "metadata": {},
   "outputs": [
    {
     "data": {
      "text/plain": [
       "id                         0.000000\n",
       "property_type              0.000000\n",
       "room_type                  0.000000\n",
       "amenities                  0.000000\n",
       "accommodates               0.000000\n",
       "bathrooms                  0.292006\n",
       "bed_type                   0.000000\n",
       "cancellation_policy        0.000000\n",
       "cleaning_fee               0.000000\n",
       "city                       0.000000\n",
       "description                0.010000\n",
       "first_review              21.422428\n",
       "host_has_profile_pic       0.254005\n",
       "host_identity_verified     0.254005\n",
       "host_response_rate        24.676494\n",
       "host_since                 0.254005\n",
       "instant_bookable           0.000000\n",
       "last_review               21.366427\n",
       "latitude                   0.000000\n",
       "longitude                  0.000000\n",
       "name                       0.012000\n",
       "neighbourhood              9.234185\n",
       "number_of_reviews          0.000000\n",
       "review_scores_rating      22.602452\n",
       "thumbnail_url             11.190224\n",
       "zipcode                    1.280026\n",
       "bedrooms                   0.124002\n",
       "beds                       0.182004\n",
       "log_price                  0.000000\n",
       "dtype: float64"
      ]
     },
     "execution_count": 7,
     "metadata": {},
     "output_type": "execute_result"
    }
   ],
   "source": [
    "#ratio of null values\n",
    "train.isnull().sum()/train.shape[0] *100"
   ]
  },
  {
   "cell_type": "code",
   "execution_count": 8,
   "metadata": {
    "scrolled": false
   },
   "outputs": [
    {
     "data": {
      "text/plain": [
       "id                          int64\n",
       "property_type              object\n",
       "room_type                  object\n",
       "amenities                  object\n",
       "accommodates                int64\n",
       "bathrooms                 float64\n",
       "bed_type                   object\n",
       "cancellation_policy        object\n",
       "cleaning_fee                 bool\n",
       "city                       object\n",
       "description                object\n",
       "first_review               object\n",
       "host_has_profile_pic       object\n",
       "host_identity_verified     object\n",
       "host_response_rate        float64\n",
       "host_since                 object\n",
       "instant_bookable           object\n",
       "last_review                object\n",
       "latitude                  float64\n",
       "longitude                 float64\n",
       "name                       object\n",
       "neighbourhood              object\n",
       "number_of_reviews           int64\n",
       "review_scores_rating      float64\n",
       "thumbnail_url              object\n",
       "zipcode                    object\n",
       "bedrooms                  float64\n",
       "beds                      float64\n",
       "log_price                 float64\n",
       "dtype: object"
      ]
     },
     "execution_count": 8,
     "metadata": {},
     "output_type": "execute_result"
    }
   ],
   "source": [
    "# let's look into the Datatypes of the variables\n",
    "train.dtypes"
   ]
  },
  {
   "cell_type": "markdown",
   "metadata": {},
   "source": [
    "## Data Cleaning"
   ]
  },
  {
   "cell_type": "code",
   "execution_count": 7,
   "metadata": {},
   "outputs": [],
   "source": [
    "#Change the datatype to datetime\n",
    "train['host_since'] = pd.to_datetime(train['host_since'])\n",
    "test['host_since'] = pd.to_datetime(test['host_since'])"
   ]
  },
  {
   "cell_type": "code",
   "execution_count": 8,
   "metadata": {},
   "outputs": [],
   "source": [
    "# Filling the Null values with the mode of the same column\n",
    "train['host_since'].fillna((train['host_since'].mode()[0]), inplace=True)\n",
    "test['host_since'].fillna((test['host_since'].mode()[0]), inplace=True)"
   ]
  },
  {
   "cell_type": "code",
   "execution_count": 9,
   "metadata": {},
   "outputs": [],
   "source": [
    "# Creating a new column with only years entry\n",
    "train['host_since_year']=train['host_since'].dt.year\n",
    "test['host_since_year']=test['host_since'].dt.year"
   ]
  },
  {
   "cell_type": "code",
   "execution_count": 10,
   "metadata": {},
   "outputs": [],
   "source": [
    "# Now calculating the difference from the present year\n",
    "train['host_since_year'] = 2021 - (train['host_since_year'])\n",
    "test['host_since_year'] = 2021 - (test['host_since_year'])"
   ]
  },
  {
   "cell_type": "code",
   "execution_count": 11,
   "metadata": {},
   "outputs": [],
   "source": [
    "# Deleting the colomn\n",
    "train.drop(['host_since'], axis=1, inplace=True)\n",
    "test.drop(['host_since'], axis=1, inplace=True)"
   ]
  },
  {
   "cell_type": "code",
   "execution_count": 12,
   "metadata": {},
   "outputs": [],
   "source": [
    "# Removing the % sign from the host_reponse_rate column\n",
    "train['host_response_rate'] = train.host_response_rate.replace('%','')\n",
    "test['host_response_rate'] = test.host_response_rate.replace('%','')"
   ]
  },
  {
   "cell_type": "code",
   "execution_count": 13,
   "metadata": {},
   "outputs": [],
   "source": [
    "# Imputing mean in the place of Null\n",
    "train['host_response_rate'].fillna((train['host_response_rate'].mean()), inplace=True)\n",
    "train['review_scores_rating'].fillna((train['review_scores_rating'].mean()), inplace=True)\n",
    "\n",
    "test['host_response_rate'].fillna((test['host_response_rate'].mean()), inplace=True)\n",
    "test['review_scores_rating'].fillna((test['review_scores_rating'].mean()), inplace=True)"
   ]
  },
  {
   "cell_type": "code",
   "execution_count": 14,
   "metadata": {},
   "outputs": [],
   "source": [
    "# Imputing null values wih mode\n",
    "train['host_has_profile_pic'].fillna((train['host_has_profile_pic'].mode()[0]), inplace=True)\n",
    "train['bathrooms'].fillna((train['bathrooms'].mode()[0]), inplace=True)\n",
    "train['host_identity_verified'].fillna((train['host_identity_verified'].mode()[0]), inplace=True)\n",
    "train['bedrooms'].fillna(train['bedrooms'].mode()[0], inplace=True)\n",
    "train['beds'].fillna(train['beds'].mode()[0], inplace=True)\n",
    "\n",
    "test['host_has_profile_pic'].fillna((test['host_has_profile_pic'].mode()[0]), inplace=True)\n",
    "test['bathrooms'].fillna((test['bathrooms'].mode()[0]), inplace=True)\n",
    "test['host_identity_verified'].fillna((test['host_identity_verified'].mode()[0]), inplace=True)\n",
    "test['bedrooms'].fillna(test['bedrooms'].mode()[0], inplace=True)\n",
    "test['beds'].fillna(test['beds'].mode()[0], inplace=True)"
   ]
  },
  {
   "cell_type": "code",
   "execution_count": 15,
   "metadata": {},
   "outputs": [],
   "source": [
    "# Creating dummies for the categorical variables\n",
    "dumm_cols = ['room_type', 'bed_type', 'cleaning_fee', 'city', 'host_has_profile_pic', \n",
    "               'host_identity_verified', 'instant_bookable', 'cancellation_policy']"
   ]
  },
  {
   "cell_type": "code",
   "execution_count": 16,
   "metadata": {},
   "outputs": [],
   "source": [
    "# Concatenated dummies cols and dropped the original variable+\n",
    "for col in dumm_cols:\n",
    "    \n",
    "    temp=pd.get_dummies(train[col],prefix=col,dtype=float)\n",
    "    train=pd.concat([temp,train],1)\n",
    "    train.drop([col],1,inplace=True)    "
   ]
  },
  {
   "cell_type": "code",
   "execution_count": 17,
   "metadata": {},
   "outputs": [],
   "source": [
    "for c in dumm_cols:\n",
    "    \n",
    "    temps=pd.get_dummies(test[c],prefix=c,dtype=float)\n",
    "    test=pd.concat([temps,test],1)\n",
    "    test.drop([c],1,inplace=True)"
   ]
  },
  {
   "cell_type": "code",
   "execution_count": 18,
   "metadata": {
    "scrolled": true
   },
   "outputs": [
    {
     "data": {
      "text/plain": [
       "Apartment             33113\n",
       "House                 11138\n",
       "Condominium            1759\n",
       "Townhouse              1146\n",
       "Loft                    834\n",
       "Other                   392\n",
       "Guesthouse              324\n",
       "Bed & Breakfast         320\n",
       "Bungalow                264\n",
       "Villa                   120\n",
       "Dorm                     99\n",
       "Guest suite              83\n",
       "Camper/RV                63\n",
       "Cabin                    49\n",
       "In-law                   49\n",
       "Hostel                   48\n",
       "Timeshare                46\n",
       "Boutique hotel           44\n",
       "Boat                     36\n",
       "Serviced apartment       16\n",
       "Tent                     12\n",
       "Castle                    8\n",
       "Yurt                      7\n",
       "Vacation home             7\n",
       "Treehouse                 6\n",
       "Hut                       5\n",
       "Chalet                    3\n",
       "Earth House               2\n",
       "Tipi                      1\n",
       "Casa particular           1\n",
       "Lighthouse                1\n",
       "Train                     1\n",
       "Parking Space             1\n",
       "Cave                      1\n",
       "Name: property_type, dtype: int64"
      ]
     },
     "execution_count": 18,
     "metadata": {},
     "output_type": "execute_result"
    }
   ],
   "source": [
    "train['property_type'].value_counts()\n"
   ]
  },
  {
   "cell_type": "code",
   "execution_count": 19,
   "metadata": {},
   "outputs": [],
   "source": [
    "# Creating dummies seperately for property_type col\n",
    "\n",
    "dum_pt = pd.get_dummies(train['property_type'], dtype=float)\n",
    "dum_pts = pd.get_dummies(test['property_type'], dtype=float)"
   ]
  },
  {
   "cell_type": "code",
   "execution_count": null,
   "metadata": {},
   "outputs": [],
   "source": [
    "# Dropping the columns which had less then 50 frequency\n",
    "dum_pt.drop(['In-law','Cabin','Hostel', 'Timeshare', 'Boutique hotel', 'Boat','Serviced apartment','Tent',\n",
    "             'Castle','Vacation home','Yurt','Treehouse','Hut','Chalet','Earth House','Train','Cave',\n",
    "             'Casa particular','Parking Space','Lighthouse','Tipi'], axis=1, inplace = True)"
   ]
  },
  {
   "cell_type": "code",
   "execution_count": 23,
   "metadata": {},
   "outputs": [],
   "source": [
    "dum_pts.drop(['In-law','Cabin','Hostel', 'Timeshare', 'Boutique hotel', 'Boat','Serviced apartment','Tent',\n",
    "             'Castle','Vacation home','Yurt','Treehouse','Hut','Chalet','Earth House','Train','Cave',\n",
    "             'Tipi'], axis=1, inplace = True)"
   ]
  },
  {
   "cell_type": "code",
   "execution_count": 24,
   "metadata": {},
   "outputs": [],
   "source": [
    "train = pd.concat([train, dum_pt], axis=1)\n",
    "train.drop(['property_type'], axis=1, inplace=True)\n",
    "\n",
    "test = pd.concat([test, dum_pts], axis=1)\n",
    "test.drop(['property_type'], axis=1, inplace=True)"
   ]
  },
  {
   "cell_type": "code",
   "execution_count": 25,
   "metadata": {
    "scrolled": true
   },
   "outputs": [
    {
     "data": {
      "text/plain": [
       "cancellation_policy_flexible           float64\n",
       "cancellation_policy_moderate           float64\n",
       "cancellation_policy_strict             float64\n",
       "cancellation_policy_super_strict_30    float64\n",
       "cancellation_policy_super_strict_60    float64\n",
       "instant_bookable_f                     float64\n",
       "instant_bookable_t                     float64\n",
       "host_identity_verified_f               float64\n",
       "host_identity_verified_t               float64\n",
       "host_has_profile_pic_f                 float64\n",
       "host_has_profile_pic_t                 float64\n",
       "city_Boston                            float64\n",
       "city_Chicago                           float64\n",
       "city_DC                                float64\n",
       "city_LA                                float64\n",
       "city_NYC                               float64\n",
       "city_SF                                float64\n",
       "cleaning_fee_False                     float64\n",
       "cleaning_fee_True                      float64\n",
       "bed_type_Airbed                        float64\n",
       "bed_type_Couch                         float64\n",
       "bed_type_Futon                         float64\n",
       "bed_type_Pull-out Sofa                 float64\n",
       "bed_type_Real Bed                      float64\n",
       "room_type_Entire home/apt              float64\n",
       "room_type_Private room                 float64\n",
       "room_type_Shared room                  float64\n",
       "id                                       int64\n",
       "amenities                               object\n",
       "accommodates                             int64\n",
       "bathrooms                              float64\n",
       "description                             object\n",
       "first_review                            object\n",
       "host_response_rate                     float64\n",
       "last_review                             object\n",
       "latitude                               float64\n",
       "longitude                              float64\n",
       "name                                    object\n",
       "neighbourhood                           object\n",
       "number_of_reviews                        int64\n",
       "review_scores_rating                   float64\n",
       "thumbnail_url                           object\n",
       "zipcode                                 object\n",
       "bedrooms                               float64\n",
       "beds                                   float64\n",
       "log_price                              float64\n",
       "host_since_year                          int64\n",
       "Apartment                              float64\n",
       "Bed & Breakfast                        float64\n",
       "Bungalow                               float64\n",
       "Camper/RV                              float64\n",
       "Condominium                            float64\n",
       "Dorm                                   float64\n",
       "Guest suite                            float64\n",
       "Guesthouse                             float64\n",
       "House                                  float64\n",
       "Loft                                   float64\n",
       "Other                                  float64\n",
       "Townhouse                              float64\n",
       "Villa                                  float64\n",
       "dtype: object"
      ]
     },
     "execution_count": 25,
     "metadata": {},
     "output_type": "execute_result"
    }
   ],
   "source": [
    "train.dtypes"
   ]
  },
  {
   "cell_type": "code",
   "execution_count": 30,
   "metadata": {
    "scrolled": true
   },
   "outputs": [
    {
     "data": {
      "text/plain": [
       "cancellation_policy_flexible                  float64\n",
       "cancellation_policy_moderate                  float64\n",
       "cancellation_policy_strict                    float64\n",
       "cancellation_policy_super_strict_30           float64\n",
       "cancellation_policy_super_strict_60           float64\n",
       "instant_bookable_f                            float64\n",
       "instant_bookable_t                            float64\n",
       "host_identity_verified_f                      float64\n",
       "host_identity_verified_t                      float64\n",
       "host_has_profile_pic_f                        float64\n",
       "host_has_profile_pic_t                        float64\n",
       "city_Boston                                   float64\n",
       "city_Chicago                                  float64\n",
       "city_DC                                       float64\n",
       "city_LA                                       float64\n",
       "city_NYC                                      float64\n",
       "city_SF                                       float64\n",
       "cleaning_fee_False                            float64\n",
       "cleaning_fee_True                             float64\n",
       "bed_type_Airbed                               float64\n",
       "bed_type_Couch                                float64\n",
       "bed_type_Futon                                float64\n",
       "bed_type_Pull-out Sofa                        float64\n",
       "bed_type_Real Bed                             float64\n",
       "room_type_Entire home/apt                     float64\n",
       "room_type_Private room                        float64\n",
       "room_type_Shared room                         float64\n",
       "id                                              int64\n",
       "amenities                                      object\n",
       "accommodates                                    int64\n",
       "bathrooms                                     float64\n",
       "description                                    object\n",
       "first_review                           datetime64[ns]\n",
       "host_response_rate                            float64\n",
       "last_review                            datetime64[ns]\n",
       "latitude                                      float64\n",
       "longitude                                     float64\n",
       "name                                           object\n",
       "neighbourhood                                  object\n",
       "number_of_reviews                               int64\n",
       "review_scores_rating                          float64\n",
       "thumbnail_url                                  object\n",
       "zipcode                                        object\n",
       "bedrooms                                      float64\n",
       "beds                                          float64\n",
       "host_since_year                                 int64\n",
       "Apartment                                     float64\n",
       "Bed & Breakfast                               float64\n",
       "Bungalow                                      float64\n",
       "Camper/RV                                     float64\n",
       "Condominium                                   float64\n",
       "Dorm                                          float64\n",
       "Guest suite                                   float64\n",
       "Guesthouse                                    float64\n",
       "House                                         float64\n",
       "Island                                        float64\n",
       "Loft                                          float64\n",
       "Other                                         float64\n",
       "Townhouse                                     float64\n",
       "Villa                                         float64\n",
       "dtype: object"
      ]
     },
     "execution_count": 30,
     "metadata": {},
     "output_type": "execute_result"
    }
   ],
   "source": [
    "test.dtypes"
   ]
  },
  {
   "cell_type": "code",
   "execution_count": 27,
   "metadata": {},
   "outputs": [],
   "source": [
    "object_columns = [col for col in train.columns if train[col].dtypes == 'object']\n",
    "object_columns1 = [col for col in test.columns if test[col].dtypes == 'object']"
   ]
  },
  {
   "cell_type": "code",
   "execution_count": 28,
   "metadata": {
    "scrolled": true
   },
   "outputs": [
    {
     "data": {
      "text/plain": [
       "['amenities',\n",
       " 'description',\n",
       " 'first_review',\n",
       " 'last_review',\n",
       " 'name',\n",
       " 'neighbourhood',\n",
       " 'thumbnail_url',\n",
       " 'zipcode']"
      ]
     },
     "execution_count": 28,
     "metadata": {},
     "output_type": "execute_result"
    }
   ],
   "source": [
    "object_columns"
   ]
  },
  {
   "cell_type": "code",
   "execution_count": 29,
   "metadata": {},
   "outputs": [
    {
     "data": {
      "text/plain": [
       "['amenities',\n",
       " 'description',\n",
       " 'name',\n",
       " 'neighbourhood',\n",
       " 'thumbnail_url',\n",
       " 'zipcode']"
      ]
     },
     "execution_count": 29,
     "metadata": {},
     "output_type": "execute_result"
    }
   ],
   "source": [
    "object_columns1"
   ]
  },
  {
   "cell_type": "code",
   "execution_count": 31,
   "metadata": {},
   "outputs": [],
   "source": [
    "# Dropping these variables\n",
    "object_columns_drop = ['amenities','description','first_review','last_review','name','neighbourhood','thumbnail_url','zipcode',\n",
    "                      'latitude', 'longitude']"
   ]
  },
  {
   "cell_type": "code",
   "execution_count": 32,
   "metadata": {},
   "outputs": [],
   "source": [
    "train.drop(object_columns_drop,1,inplace=True)\n",
    "test.drop(object_columns_drop,1,inplace=True)"
   ]
  },
  {
   "cell_type": "code",
   "execution_count": 40,
   "metadata": {},
   "outputs": [],
   "source": [
    "# Remove this column from test data, as it is not present in the trainig data\n",
    "test.drop(['Island'], axis=1, inplace=True)"
   ]
  },
  {
   "cell_type": "code",
   "execution_count": 41,
   "metadata": {
    "scrolled": true
   },
   "outputs": [
    {
     "data": {
      "text/plain": [
       "cancellation_policy_flexible           float64\n",
       "cancellation_policy_moderate           float64\n",
       "cancellation_policy_strict             float64\n",
       "cancellation_policy_super_strict_30    float64\n",
       "cancellation_policy_super_strict_60    float64\n",
       "instant_bookable_f                     float64\n",
       "instant_bookable_t                     float64\n",
       "host_identity_verified_f               float64\n",
       "host_identity_verified_t               float64\n",
       "host_has_profile_pic_f                 float64\n",
       "host_has_profile_pic_t                 float64\n",
       "city_Boston                            float64\n",
       "city_Chicago                           float64\n",
       "city_DC                                float64\n",
       "city_LA                                float64\n",
       "city_NYC                               float64\n",
       "city_SF                                float64\n",
       "cleaning_fee_False                     float64\n",
       "cleaning_fee_True                      float64\n",
       "bed_type_Airbed                        float64\n",
       "bed_type_Couch                         float64\n",
       "bed_type_Futon                         float64\n",
       "bed_type_Pull-out Sofa                 float64\n",
       "bed_type_Real Bed                      float64\n",
       "room_type_Entire home/apt              float64\n",
       "room_type_Private room                 float64\n",
       "room_type_Shared room                  float64\n",
       "id                                       int64\n",
       "accommodates                             int64\n",
       "bathrooms                              float64\n",
       "host_response_rate                     float64\n",
       "number_of_reviews                        int64\n",
       "review_scores_rating                   float64\n",
       "bedrooms                               float64\n",
       "beds                                   float64\n",
       "log_price                              float64\n",
       "host_since_year                          int64\n",
       "Apartment                              float64\n",
       "Bed & Breakfast                        float64\n",
       "Bungalow                               float64\n",
       "Camper/RV                              float64\n",
       "Condominium                            float64\n",
       "Dorm                                   float64\n",
       "Guest suite                            float64\n",
       "Guesthouse                             float64\n",
       "House                                  float64\n",
       "Loft                                   float64\n",
       "Other                                  float64\n",
       "Townhouse                              float64\n",
       "Villa                                  float64\n",
       "dtype: object"
      ]
     },
     "execution_count": 41,
     "metadata": {},
     "output_type": "execute_result"
    }
   ],
   "source": [
    "train.dtypes"
   ]
  },
  {
   "cell_type": "code",
   "execution_count": 42,
   "metadata": {
    "scrolled": true
   },
   "outputs": [
    {
     "data": {
      "text/plain": [
       "cancellation_policy_flexible           float64\n",
       "cancellation_policy_moderate           float64\n",
       "cancellation_policy_strict             float64\n",
       "cancellation_policy_super_strict_30    float64\n",
       "cancellation_policy_super_strict_60    float64\n",
       "instant_bookable_f                     float64\n",
       "instant_bookable_t                     float64\n",
       "host_identity_verified_f               float64\n",
       "host_identity_verified_t               float64\n",
       "host_has_profile_pic_f                 float64\n",
       "host_has_profile_pic_t                 float64\n",
       "city_Boston                            float64\n",
       "city_Chicago                           float64\n",
       "city_DC                                float64\n",
       "city_LA                                float64\n",
       "city_NYC                               float64\n",
       "city_SF                                float64\n",
       "cleaning_fee_False                     float64\n",
       "cleaning_fee_True                      float64\n",
       "bed_type_Airbed                        float64\n",
       "bed_type_Couch                         float64\n",
       "bed_type_Futon                         float64\n",
       "bed_type_Pull-out Sofa                 float64\n",
       "bed_type_Real Bed                      float64\n",
       "room_type_Entire home/apt              float64\n",
       "room_type_Private room                 float64\n",
       "room_type_Shared room                  float64\n",
       "id                                       int64\n",
       "accommodates                             int64\n",
       "bathrooms                              float64\n",
       "host_response_rate                     float64\n",
       "number_of_reviews                        int64\n",
       "review_scores_rating                   float64\n",
       "bedrooms                               float64\n",
       "beds                                   float64\n",
       "host_since_year                          int64\n",
       "Apartment                              float64\n",
       "Bed & Breakfast                        float64\n",
       "Bungalow                               float64\n",
       "Camper/RV                              float64\n",
       "Condominium                            float64\n",
       "Dorm                                   float64\n",
       "Guest suite                            float64\n",
       "Guesthouse                             float64\n",
       "House                                  float64\n",
       "Loft                                   float64\n",
       "Other                                  float64\n",
       "Townhouse                              float64\n",
       "Villa                                  float64\n",
       "dtype: object"
      ]
     },
     "execution_count": 42,
     "metadata": {},
     "output_type": "execute_result"
    }
   ],
   "source": [
    "test.dtypes"
   ]
  },
  {
   "cell_type": "code",
   "execution_count": 43,
   "metadata": {
    "scrolled": true
   },
   "outputs": [
    {
     "data": {
      "text/plain": [
       "cancellation_policy_flexible           0\n",
       "cancellation_policy_moderate           0\n",
       "cancellation_policy_strict             0\n",
       "cancellation_policy_super_strict_30    0\n",
       "cancellation_policy_super_strict_60    0\n",
       "instant_bookable_f                     0\n",
       "instant_bookable_t                     0\n",
       "host_identity_verified_f               0\n",
       "host_identity_verified_t               0\n",
       "host_has_profile_pic_f                 0\n",
       "host_has_profile_pic_t                 0\n",
       "city_Boston                            0\n",
       "city_Chicago                           0\n",
       "city_DC                                0\n",
       "city_LA                                0\n",
       "city_NYC                               0\n",
       "city_SF                                0\n",
       "cleaning_fee_False                     0\n",
       "cleaning_fee_True                      0\n",
       "bed_type_Airbed                        0\n",
       "bed_type_Couch                         0\n",
       "bed_type_Futon                         0\n",
       "bed_type_Pull-out Sofa                 0\n",
       "bed_type_Real Bed                      0\n",
       "room_type_Entire home/apt              0\n",
       "room_type_Private room                 0\n",
       "room_type_Shared room                  0\n",
       "id                                     0\n",
       "accommodates                           0\n",
       "bathrooms                              0\n",
       "host_response_rate                     0\n",
       "number_of_reviews                      0\n",
       "review_scores_rating                   0\n",
       "bedrooms                               0\n",
       "beds                                   0\n",
       "log_price                              0\n",
       "host_since_year                        0\n",
       "Apartment                              0\n",
       "Bed & Breakfast                        0\n",
       "Bungalow                               0\n",
       "Camper/RV                              0\n",
       "Condominium                            0\n",
       "Dorm                                   0\n",
       "Guest suite                            0\n",
       "Guesthouse                             0\n",
       "House                                  0\n",
       "Loft                                   0\n",
       "Other                                  0\n",
       "Townhouse                              0\n",
       "Villa                                  0\n",
       "dtype: int64"
      ]
     },
     "execution_count": 43,
     "metadata": {},
     "output_type": "execute_result"
    }
   ],
   "source": [
    "train.isna().sum()"
   ]
  },
  {
   "cell_type": "code",
   "execution_count": 44,
   "metadata": {
    "scrolled": true
   },
   "outputs": [
    {
     "data": {
      "text/plain": [
       "cancellation_policy_flexible           0\n",
       "cancellation_policy_moderate           0\n",
       "cancellation_policy_strict             0\n",
       "cancellation_policy_super_strict_30    0\n",
       "cancellation_policy_super_strict_60    0\n",
       "instant_bookable_f                     0\n",
       "instant_bookable_t                     0\n",
       "host_identity_verified_f               0\n",
       "host_identity_verified_t               0\n",
       "host_has_profile_pic_f                 0\n",
       "host_has_profile_pic_t                 0\n",
       "city_Boston                            0\n",
       "city_Chicago                           0\n",
       "city_DC                                0\n",
       "city_LA                                0\n",
       "city_NYC                               0\n",
       "city_SF                                0\n",
       "cleaning_fee_False                     0\n",
       "cleaning_fee_True                      0\n",
       "bed_type_Airbed                        0\n",
       "bed_type_Couch                         0\n",
       "bed_type_Futon                         0\n",
       "bed_type_Pull-out Sofa                 0\n",
       "bed_type_Real Bed                      0\n",
       "room_type_Entire home/apt              0\n",
       "room_type_Private room                 0\n",
       "room_type_Shared room                  0\n",
       "id                                     0\n",
       "accommodates                           0\n",
       "bathrooms                              0\n",
       "host_response_rate                     0\n",
       "number_of_reviews                      0\n",
       "review_scores_rating                   0\n",
       "bedrooms                               0\n",
       "beds                                   0\n",
       "host_since_year                        0\n",
       "Apartment                              0\n",
       "Bed & Breakfast                        0\n",
       "Bungalow                               0\n",
       "Camper/RV                              0\n",
       "Condominium                            0\n",
       "Dorm                                   0\n",
       "Guest suite                            0\n",
       "Guesthouse                             0\n",
       "House                                  0\n",
       "Loft                                   0\n",
       "Other                                  0\n",
       "Townhouse                              0\n",
       "Villa                                  0\n",
       "dtype: int64"
      ]
     },
     "execution_count": 44,
     "metadata": {},
     "output_type": "execute_result"
    }
   ],
   "source": [
    "test.isna().sum()"
   ]
  },
  {
   "cell_type": "code",
   "execution_count": 45,
   "metadata": {},
   "outputs": [
    {
     "data": {
      "text/plain": [
       "((49999, 50), (24111, 49))"
      ]
     },
     "execution_count": 45,
     "metadata": {},
     "output_type": "execute_result"
    }
   ],
   "source": [
    "train.shape, test.shape"
   ]
  },
  {
   "cell_type": "code",
   "execution_count": 55,
   "metadata": {},
   "outputs": [],
   "source": [
    "# Seperate Features and Target\n",
    "X= train.drop(columns = ['log_price', 'id'], axis=1)\n",
    "y= train['log_price']"
   ]
  },
  {
   "cell_type": "markdown",
   "metadata": {},
   "source": [
    "## Building Final Model"
   ]
  },
  {
   "cell_type": "code",
   "execution_count": 62,
   "metadata": {},
   "outputs": [],
   "source": [
    "xgb = XGBRegressor(n_estimators=1000, learning_rate=.05)"
   ]
  },
  {
   "cell_type": "code",
   "execution_count": 63,
   "metadata": {},
   "outputs": [
    {
     "data": {
      "text/plain": [
       "XGBRegressor(base_score=0.5, booster='gbtree', colsample_bylevel=1,\n",
       "             colsample_bynode=1, colsample_bytree=1, gamma=0, gpu_id=-1,\n",
       "             importance_type='gain', interaction_constraints='',\n",
       "             learning_rate=0.05, max_delta_step=0, max_depth=6,\n",
       "             min_child_weight=1, missing=nan, monotone_constraints='()',\n",
       "             n_estimators=1000, n_jobs=4, num_parallel_tree=1, random_state=0,\n",
       "             reg_alpha=0, reg_lambda=1, scale_pos_weight=1, subsample=1,\n",
       "             tree_method='exact', validate_parameters=1, verbosity=None)"
      ]
     },
     "execution_count": 63,
     "metadata": {},
     "output_type": "execute_result"
    }
   ],
   "source": [
    "xgb.fit(X,y)"
   ]
  },
  {
   "cell_type": "code",
   "execution_count": 64,
   "metadata": {},
   "outputs": [],
   "source": [
    "x_test=test.drop(['id'],1)"
   ]
  },
  {
   "cell_type": "code",
   "execution_count": 65,
   "metadata": {},
   "outputs": [],
   "source": [
    "pred = xgb.predict(x_test)"
   ]
  },
  {
   "cell_type": "code",
   "execution_count": 66,
   "metadata": {},
   "outputs": [],
   "source": [
    "submission=pd.DataFrame(list(zip(test['id'],list(pred))),\n",
    "                       columns=['id','log_price'])"
   ]
  },
  {
   "cell_type": "code",
   "execution_count": 67,
   "metadata": {},
   "outputs": [],
   "source": [
    "submission.to_csv(\"C:/Users/shubh/Desktop/PYTHON/case study/Deloitte Submission.csv\",index=False)"
   ]
  }
 ],
 "metadata": {
  "kernelspec": {
   "display_name": "Python 3",
   "language": "python",
   "name": "python3"
  },
  "language_info": {
   "codemirror_mode": {
    "name": "ipython",
    "version": 3
   },
   "file_extension": ".py",
   "mimetype": "text/x-python",
   "name": "python",
   "nbconvert_exporter": "python",
   "pygments_lexer": "ipython3",
   "version": "3.8.5"
  }
 },
 "nbformat": 4,
 "nbformat_minor": 4
}
